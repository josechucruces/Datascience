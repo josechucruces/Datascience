{
 "cells": [
  {
   "cell_type": "markdown",
   "id": "fc0634a9-ae2f-4ec1-b27f-7265bd4412ee",
   "metadata": {},
   "source": [
    "# Data Science Tools and Ecosystem"
   ]
  },
  {
   "cell_type": "markdown",
   "id": "95411790-096f-4659-a44a-2530bb02f3bf",
   "metadata": {},
   "source": [
    "In this notebook, Data Science Tools and Ecosystem are summarized."
   ]
  },
  {
   "cell_type": "markdown",
   "id": "e2e976b8-0e5f-4158-a7f3-f499d7194831",
   "metadata": {},
   "source": [
    "Some of the popular languages that Data Sciencetists use are :\n",
    "1. Python\n",
    "2. R\n",
    "3. Sql"
   ]
  },
  {
   "cell_type": "markdown",
   "id": "254a2d57-6268-4ccc-a8bb-f24cc8f986bf",
   "metadata": {},
   "source": [
    "Some of the commonly used libraries used by Data Scientists include:\n",
    "1. Matplotlib\n",
    "2. Numpay\n",
    "3. Seaborn"
   ]
  },
  {
   "cell_type": "markdown",
   "id": "67fcb717-3d4f-43e3-ba7d-eaa6033e3f0a",
   "metadata": {},
   "source": [
    "| Data Science Tools |\n",
    "| ------------------ |\n",
    "| Visual studio code |\n",
    "| Jupyter notebook   |\n",
    "|    R Studio        |"
   ]
  },
  {
   "cell_type": "markdown",
   "id": "48b791c1-20d6-4aa5-963c-798ae12e5da4",
   "metadata": {},
   "source": [
    "### Below are few examples of evaluating arithmetic expressions in Python"
   ]
  },
  {
   "cell_type": "code",
   "execution_count": 4,
   "id": "d3ee3821-afac-4883-ae5a-908034a72c26",
   "metadata": {},
   "outputs": [],
   "source": [
    "# This is a simple arithmetic expression to mutiply then add integers "
   ]
  },
  {
   "cell_type": "code",
   "execution_count": 3,
   "id": "ffc36992-8b70-4e8d-aa44-2ff69f93253b",
   "metadata": {},
   "outputs": [
    {
     "data": {
      "text/plain": [
       "17"
      ]
     },
     "execution_count": 3,
     "metadata": {},
     "output_type": "execute_result"
    }
   ],
   "source": [
    "(3*4)+5"
   ]
  },
  {
   "cell_type": "code",
   "execution_count": 5,
   "id": "c345c80d-8e79-487e-8eb6-90290cd178bd",
   "metadata": {},
   "outputs": [],
   "source": [
    "# This will convert 200 minutes to hours by dividing by 60 "
   ]
  },
  {
   "cell_type": "code",
   "execution_count": 6,
   "id": "a813dc04-9d67-47b8-adc1-8b5a47d05a84",
   "metadata": {},
   "outputs": [
    {
     "data": {
      "text/plain": [
       "3.3333333333333335"
      ]
     },
     "execution_count": 6,
     "metadata": {},
     "output_type": "execute_result"
    }
   ],
   "source": [
    "200 / 60"
   ]
  },
  {
   "cell_type": "markdown",
   "id": "32a732de-d298-4dcd-b715-c6bc86f58215",
   "metadata": {},
   "source": [
    "**Objetives:**\n",
    "\n",
    "- Python\n",
    "- R\n",
    "- SQL"
   ]
  },
  {
   "cell_type": "markdown",
   "id": "ba17c57e-df52-4b15-a5e7-78eb37212a1f",
   "metadata": {},
   "source": [
    "## Author\n",
    "Jose Cruces Aparicio"
   ]
  },
  {
   "cell_type": "code",
   "execution_count": null,
   "id": "ab6adc62-a092-4e26-bf8e-2eb4b1f52dba",
   "metadata": {},
   "outputs": [],
   "source": []
  }
 ],
 "metadata": {
  "kernelspec": {
   "display_name": "Python 3 (ipykernel)",
   "language": "python",
   "name": "python3"
  },
  "language_info": {
   "codemirror_mode": {
    "name": "ipython",
    "version": 3
   },
   "file_extension": ".py",
   "mimetype": "text/x-python",
   "name": "python",
   "nbconvert_exporter": "python",
   "pygments_lexer": "ipython3",
   "version": "3.11.9"
  }
 },
 "nbformat": 4,
 "nbformat_minor": 5
}
